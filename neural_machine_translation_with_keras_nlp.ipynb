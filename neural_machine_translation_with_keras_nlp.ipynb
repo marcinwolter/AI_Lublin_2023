{
  "cells": [
    {
      "cell_type": "markdown",
      "metadata": {
        "id": "dUQ0v-GgkjZz"
      },
      "source": [
        "\n",
        "\n",
        "```\n",
        "# Sformatowano jako kod\n",
        "```\n",
        "\n",
        "# English-to-Polish translation with KerasNLP\n",
        "\n",
        "**Author:** [Abheesht Sharma](https://github.com/abheesht17/)<br>\n",
        "**Date created:** 2022/05/26<br>\n",
        "**Last modified:** 2022/12/21<br>\n",
        "**Description:** Use KerasNLP to train a sequence-to-sequence Transformer model on the machine translation task.\n",
        "\n",
        "Modified by M. Wolter"
      ]
    },
    {
      "cell_type": "markdown",
      "source": [
        "##How to design and train an English to Polish translator?\n",
        "\n",
        "To design and train an English to Polish translator using transformers and keras-nlp, you can follow the steps below:\n",
        "\n",
        "* Prepare the data: Collect a large dataset of English-Polish translations. Divide it into training and validation sets.\n",
        "* Tokenize the data: Use the Tokenizer API from keras-nlp to convert the text data into numerical data that can be used as input to the neural network.\n",
        "* Design the model: Use the Transformer model architecture to design the translation model. You can use the TransformerEncoder and TransformerDecoder classes from keras-nlp to build the model.\n",
        "* Train the model: Use the fit() method from keras to train the model. Use the Adam optimizer and categorical cross-entropy loss function.\n",
        "* Evaluate the model: Use the evaluate() method to test the performance of the model on the validation set.\n",
        "* Use the model for translation: Once the model is trained and evaluated, you can use it for English to Polish translation."
      ],
      "metadata": {
        "id": "DTrZYFaLvwOf"
      }
    },
    {
      "cell_type": "markdown",
      "metadata": {
        "id": "FXXASulrkjZ1"
      },
      "source": [
        "## Introduction\n",
        "\n",
        "KerasNLP provides building blocks for NLP (model layers, tokenizers, metrics, etc.) and\n",
        "makes it convenient to construct NLP pipelines.\n",
        "\n",
        "In this example, we'll use KerasNLP layers to build an encoder-decoder Transformer\n",
        "model, and train it on the English-to-Polish machine translation task.\n",
        "\n",
        "This example is based on the\n",
        "[English-to-Spanish NMT\n",
        "example](https://keras.io/examples/nlp/neural_machine_translation_with_transformer/)\n",
        "by [fchollet](https://twitter.com/fchollet). The original example is more low-level\n",
        "and implements layers from scratch, whereas this example uses KerasNLP to show\n",
        "some more advanced approaches, such as subword tokenization and using metrics\n",
        "to compute the quality of generated translations.\n",
        "\n",
        "You'll learn how to:\n",
        "\n",
        "- Tokenize text using `keras_nlp.tokenizers.WordPieceTokenizer`.\n",
        "- Implement a sequence-to-sequence Transformer model using KerasNLP's\n",
        "`keras_nlp.layers.TransformerEncoder`, `keras_nlp.layers.TransformerDecoder` and\n",
        "`keras_nlp.layers.TokenAndPositionEmbedding` layers, and train it.\n",
        "- Use `keras_nlp.samplers` to generate translations of unseen input sentences\n",
        " using the top-p decoding strategy!\n",
        "\n",
        "Don't worry if you aren't familiar with KerasNLP. This tutorial will start with\n",
        "the basics. Let's dive right in!"
      ]
    },
    {
      "cell_type": "markdown",
      "metadata": {
        "id": "YxFRrgoGkjZ1"
      },
      "source": [
        "## Setup\n",
        "\n",
        "Before we start implementing the pipeline, let's import all the libraries we need."
      ]
    },
    {
      "cell_type": "code",
      "execution_count": 1,
      "metadata": {
        "colab": {
          "base_uri": "https://localhost:8080/"
        },
        "id": "bgUhdmjlkjZ1",
        "outputId": "28044750-7628-4b65-a904-e1e1517ee808"
      },
      "outputs": [
        {
          "output_type": "execute_result",
          "data": {
            "text/plain": [
              "['  Installing build dependencies ... \\x1b[?25l\\x1b[?25hdone',\n",
              " '  Getting requirements to build wheel ... \\x1b[?25l\\x1b[?25hdone',\n",
              " '  Preparing metadata (pyproject.toml) ... \\x1b[?25l\\x1b[?25hdone']"
            ]
          },
          "metadata": {},
          "execution_count": 1
        }
      ],
      "source": [
        "!!pip install -q rouge-score\n",
        "!!pip install -q git+https://github.com/keras-team/keras-nlp.git --upgrade"
      ]
    },
    {
      "cell_type": "code",
      "execution_count": 2,
      "metadata": {
        "id": "pV7kvbPVkjZ2"
      },
      "outputs": [],
      "source": [
        "import keras_nlp\n",
        "import pathlib\n",
        "import random\n",
        "import tensorflow as tf\n",
        "\n",
        "from tensorflow import keras\n",
        "from tensorflow_text.tools.wordpiece_vocab import (\n",
        "    bert_vocab_from_dataset as bert_vocab,\n",
        ")"
      ]
    },
    {
      "cell_type": "markdown",
      "metadata": {
        "id": "EBTEpfIikjZ2"
      },
      "source": [
        "Let's also define our parameters/hyperparameters."
      ]
    },
    {
      "cell_type": "code",
      "execution_count": 3,
      "metadata": {
        "id": "JLJ-uAJQkjZ2"
      },
      "outputs": [],
      "source": [
        "BATCH_SIZE = 64\n",
        "EPOCHS = 10  # This should be at least 10 for convergence\n",
        "MAX_SEQUENCE_LENGTH = 40\n",
        "ENG_VOCAB_SIZE = 15000\n",
        "SPA_VOCAB_SIZE = 15000\n",
        "\n",
        "EMBED_DIM = 256\n",
        "INTERMEDIATE_DIM = 2048\n",
        "NUM_HEADS = 8"
      ]
    },
    {
      "cell_type": "markdown",
      "metadata": {
        "id": "uvs1asU9kjZ3"
      },
      "source": [
        "## Downloading the data\n",
        "\n",
        "We'll be working with an English-to-Spanish translation dataset\n",
        "provided by [Anki](https://www.manythings.org/anki/). Let's download it:"
      ]
    },
    {
      "cell_type": "code",
      "execution_count": 4,
      "metadata": {
        "colab": {
          "base_uri": "https://localhost:8080/"
        },
        "id": "tLNBEn2RkjZ3",
        "outputId": "073d7213-689d-485b-e075-5dd91b8691d2"
      },
      "outputs": [
        {
          "output_type": "stream",
          "name": "stdout",
          "text": [
            "--2023-06-09 00:43:54--  https://www.manythings.org/anki/pol-eng.zip\n",
            "Resolving www.manythings.org (www.manythings.org)... 173.254.30.110\n",
            "Connecting to www.manythings.org (www.manythings.org)|173.254.30.110|:443... connected.\n",
            "HTTP request sent, awaiting response... 200 OK\n",
            "Length: 1868937 (1.8M) [application/zip]\n",
            "Saving to: ‘pol-eng.zip’\n",
            "\n",
            "pol-eng.zip         100%[===================>]   1.78M  1.49MB/s    in 1.2s    \n",
            "\n",
            "2023-06-09 00:43:56 (1.49 MB/s) - ‘pol-eng.zip’ saved [1868937/1868937]\n",
            "\n",
            "Archive:  pol-eng.zip\n",
            "  inflating: pol.txt                 \n",
            "replace _about.txt? [y]es, [n]o, [A]ll, [N]one, [r]ename: y\n",
            "  inflating: _about.txt              \n"
          ]
        }
      ],
      "source": [
        "\n",
        "! rm pol-eng.zip \n",
        "! rm pol.txt\n",
        "! wget https://www.manythings.org/anki/pol-eng.zip\n",
        "! unzip pol-eng.zip\n",
        "text_file = './pol.txt'"
      ]
    },
    {
      "cell_type": "markdown",
      "metadata": {
        "id": "q6T82mMkkjZ3"
      },
      "source": [
        "## Parsing the data\n",
        "\n",
        "Each line contains an English sentence and its corresponding Polish sentence.\n",
        "The English sentence is the *source sequence* and Polish one is the *target sequence*.\n",
        "Before adding the text to a list, we convert it to lowercase."
      ]
    },
    {
      "cell_type": "code",
      "execution_count": 6,
      "metadata": {
        "id": "NIuRzQKakjZ3"
      },
      "outputs": [],
      "source": [
        "with open(text_file) as f:\n",
        "    lines = f.read().split(\"\\n\")[:-1]\n",
        "text_pairs = []\n",
        "for line in lines:\n",
        "    eng, spa, _ = line.split(\"\\t\")\n",
        "    eng = eng.lower()\n",
        "    spa = spa.lower()\n",
        "    text_pairs.append((eng, spa))"
      ]
    },
    {
      "cell_type": "markdown",
      "metadata": {
        "id": "rSEqJRGakjZ3"
      },
      "source": [
        "Here's what our sentence pairs look like:"
      ]
    },
    {
      "cell_type": "code",
      "execution_count": 7,
      "metadata": {
        "colab": {
          "base_uri": "https://localhost:8080/"
        },
        "id": "cDT565wokjZ3",
        "outputId": "7f5b7329-8f1f-4081-9771-8244aa9846b9"
      },
      "outputs": [
        {
          "output_type": "stream",
          "name": "stdout",
          "text": [
            "('please be polite.', 'proszę, bądź grzeczna.')\n",
            "('i need an operation.', 'potrzebuję operacji.')\n",
            "('i wrote it down.', 'zapisałem to.')\n",
            "('if i knew her address, i would write her a letter.', 'gdybym znał jej adres, napisałbym jej list.')\n",
            "('you always forget.', 'ty zawsze zapominasz.')\n"
          ]
        }
      ],
      "source": [
        "for _ in range(5):\n",
        "    print(random.choice(text_pairs))"
      ]
    },
    {
      "cell_type": "markdown",
      "metadata": {
        "id": "59ui0k6YkjZ4"
      },
      "source": [
        "Now, let's split the sentence pairs into a training set, a validation set,\n",
        "and a test set."
      ]
    },
    {
      "cell_type": "code",
      "execution_count": 8,
      "metadata": {
        "colab": {
          "base_uri": "https://localhost:8080/"
        },
        "id": "rJwq8C5pkjZ4",
        "outputId": "c955fb24-9c17-471a-bd88-bb71860d10ae"
      },
      "outputs": [
        {
          "output_type": "stream",
          "name": "stdout",
          "text": [
            "47159 total pairs\n",
            "33013 training pairs\n",
            "7073 validation pairs\n",
            "7073 test pairs\n"
          ]
        }
      ],
      "source": [
        "random.shuffle(text_pairs)\n",
        "num_val_samples = int(0.15 * len(text_pairs))\n",
        "num_train_samples = len(text_pairs) - 2 * num_val_samples\n",
        "train_pairs = text_pairs[:num_train_samples]\n",
        "val_pairs = text_pairs[num_train_samples : num_train_samples + num_val_samples]\n",
        "test_pairs = text_pairs[num_train_samples + num_val_samples :]\n",
        "\n",
        "print(f\"{len(text_pairs)} total pairs\")\n",
        "print(f\"{len(train_pairs)} training pairs\")\n",
        "print(f\"{len(val_pairs)} validation pairs\")\n",
        "print(f\"{len(test_pairs)} test pairs\")\n"
      ]
    },
    {
      "cell_type": "markdown",
      "metadata": {
        "id": "IDUmFBkekjZ4"
      },
      "source": [
        "## Tokenizing the data\n",
        "\n",
        "We'll define two tokenizers - one for the source language (English), and the other\n",
        "for the target language (Polish). We'll be using\n",
        "`keras_nlp.tokenizers.WordPieceTokenizer` to tokenize the text.\n",
        "`keras_nlp.tokenizers.WordPieceTokenizer` takes a WordPiece vocabulary\n",
        "and has functions for tokenizing the text, and detokenizing sequences of tokens.\n",
        "\n",
        "Before we define the two tokenizers, we first need to train them on the dataset\n",
        "we have. The WordPiece tokenization algorithm is a subword tokenization algorithm;\n",
        "training it on a corpus gives us a vocabulary of subwords. A subword tokenizer\n",
        "is a compromise between word tokenizers (word tokenizers need very large\n",
        "vocabularies for good coverage of input words), and character tokenizers\n",
        "(characters don't really encode meaning like words do). Luckily, KerasNLP\n",
        "makes it very simple to train WordPiece on a corpus with the\n",
        "`keras_nlp.tokenizers.compute_word_piece_vocabulary` utility."
      ]
    },
    {
      "cell_type": "code",
      "execution_count": 9,
      "metadata": {
        "id": "gpAE15CnkjZ4"
      },
      "outputs": [],
      "source": [
        "\n",
        "def train_word_piece(text_samples, vocab_size, reserved_tokens):\n",
        "    word_piece_ds = tf.data.Dataset.from_tensor_slices(text_samples)\n",
        "    vocab = keras_nlp.tokenizers.compute_word_piece_vocabulary(\n",
        "        word_piece_ds.batch(1000).prefetch(2),\n",
        "        vocabulary_size=vocab_size,\n",
        "        reserved_tokens=reserved_tokens,\n",
        "    )\n",
        "    return vocab\n"
      ]
    },
    {
      "cell_type": "markdown",
      "metadata": {
        "id": "we7EL52_kjZ4"
      },
      "source": [
        "Every vocabulary has a few special, reserved tokens. We have four such tokens:\n",
        "\n",
        "- `\"[PAD]\"` - Padding token. Padding tokens are appended to the input sequence\n",
        "length when the input sequence length is shorter than the maximum sequence length.\n",
        "- `\"[UNK]\"` - Unknown token.\n",
        "- `\"[START]\"` - Token that marks the start of the input sequence.\n",
        "- `\"[END]\"` - Token that marks the end of the input sequence."
      ]
    },
    {
      "cell_type": "code",
      "execution_count": 10,
      "metadata": {
        "id": "Vln1kCSUkjZ4"
      },
      "outputs": [],
      "source": [
        "reserved_tokens = [\"[PAD]\", \"[UNK]\", \"[START]\", \"[END]\"]\n",
        "\n",
        "eng_samples = [text_pair[0] for text_pair in train_pairs]\n",
        "eng_vocab = train_word_piece(eng_samples, ENG_VOCAB_SIZE, reserved_tokens)\n",
        "\n",
        "spa_samples = [text_pair[1] for text_pair in train_pairs]\n",
        "spa_vocab = train_word_piece(spa_samples, SPA_VOCAB_SIZE, reserved_tokens)"
      ]
    },
    {
      "cell_type": "markdown",
      "metadata": {
        "id": "PaobYkZKkjZ5"
      },
      "source": [
        "Let's see some tokens!"
      ]
    },
    {
      "cell_type": "code",
      "execution_count": 11,
      "metadata": {
        "colab": {
          "base_uri": "https://localhost:8080/"
        },
        "id": "ywgB3wo8kjZ5",
        "outputId": "380c264a-e31b-4357-84b6-c9e890d6de4f"
      },
      "outputs": [
        {
          "output_type": "stream",
          "name": "stdout",
          "text": [
            "English Tokens:  ['here', 'has', 'think', 'will', 'all', '##ing', 'him', 'going', 'as', '##ed']\n",
            "Spanish Tokens:  ['są', 'tak', 'tym', 'mogę', 'zrobić', 'już', 'ten', '##j', '##y', '##sz']\n"
          ]
        }
      ],
      "source": [
        "print(\"English Tokens: \", eng_vocab[100:110])\n",
        "print(\"Polish Tokens: \",  spa_vocab[100:110])"
      ]
    },
    {
      "cell_type": "markdown",
      "metadata": {
        "id": "gFlT8td6kjZ5"
      },
      "source": [
        "Now, let's define the tokenizers. We will configure the tokenizers with the\n",
        "the vocabularies trained above."
      ]
    },
    {
      "cell_type": "code",
      "execution_count": 12,
      "metadata": {
        "id": "TVSbnFCwkjZ5"
      },
      "outputs": [],
      "source": [
        "eng_tokenizer = keras_nlp.tokenizers.WordPieceTokenizer(\n",
        "    vocabulary=eng_vocab, lowercase=False\n",
        ")\n",
        "spa_tokenizer = keras_nlp.tokenizers.WordPieceTokenizer(\n",
        "    vocabulary=spa_vocab, lowercase=False\n",
        ")"
      ]
    },
    {
      "cell_type": "markdown",
      "metadata": {
        "id": "vlKSrw1JkjZ5"
      },
      "source": [
        "Let's try and tokenize a sample from our dataset! To verify whether the text has\n",
        "been tokenized correctly, we can also detokenize the list of tokens back to the\n",
        "original text."
      ]
    },
    {
      "cell_type": "code",
      "execution_count": 13,
      "metadata": {
        "colab": {
          "base_uri": "https://localhost:8080/"
        },
        "id": "IVudxiIgkjZ5",
        "outputId": "5677c93b-530b-42d8-a7ff-be96ffdcb67e"
      },
      "outputs": [
        {
          "output_type": "stream",
          "name": "stdout",
          "text": [
            "English sentence:  i can't stand the cold.\n",
            "Tokens:  tf.Tensor([ 34  73   8  45 502  57 404  12], shape=(8,), dtype=int32)\n",
            "Recovered text after detokenizing:  tf.Tensor(b\"i can ' t stand the cold .\", shape=(), dtype=string)\n",
            "\n",
            "Spanish sentence:  nie znoszę zimna.\n",
            "Tokens:  tf.Tensor([  71 3237   55 2624  222   14], shape=(6,), dtype=int32)\n",
            "Recovered text after detokenizing:  tf.Tensor(b'nie znosz\\xc4\\x99 zimna .', shape=(), dtype=string)\n"
          ]
        }
      ],
      "source": [
        "eng_input_ex = text_pairs[0][0]\n",
        "eng_tokens_ex = eng_tokenizer.tokenize(eng_input_ex)\n",
        "print(\"English sentence: \", eng_input_ex)\n",
        "print(\"Tokens: \", eng_tokens_ex)\n",
        "print(\n",
        "    \"Recovered text after detokenizing: \",\n",
        "    eng_tokenizer.detokenize(eng_tokens_ex),\n",
        ")\n",
        "\n",
        "print()\n",
        "\n",
        "spa_input_ex = text_pairs[0][1]\n",
        "spa_tokens_ex = spa_tokenizer.tokenize(spa_input_ex)\n",
        "print(\"Spanish sentence: \", spa_input_ex)\n",
        "print(\"Tokens: \", spa_tokens_ex)\n",
        "print(\n",
        "    \"Recovered text after detokenizing: \",\n",
        "    spa_tokenizer.detokenize(spa_tokens_ex),\n",
        ")"
      ]
    },
    {
      "cell_type": "markdown",
      "metadata": {
        "id": "L09CxWkakjZ6"
      },
      "source": [
        "## Format datasets\n",
        "\n",
        "Next, we'll format our datasets.\n",
        "\n",
        "At each training step, the model will seek to predict target words N+1 (and beyond)\n",
        "using the source sentence and the target words 0 to N.\n",
        "\n",
        "As such, the training dataset will yield a tuple `(inputs, targets)`, where:\n",
        "\n",
        "- `inputs` is a dictionary with the keys `encoder_inputs` and `decoder_inputs`.\n",
        "`encoder_inputs` is the tokenized source sentence and `decoder_inputs` is the target\n",
        "sentence \"so far\",\n",
        "that is to say, the words 0 to N used to predict word N+1 (and beyond) in the target\n",
        "sentence.\n",
        "- `target` is the target sentence offset by one step:\n",
        "it provides the next words in the target sentence -- what the model will try to predict.\n",
        "\n",
        "We will add special tokens, `\"[START]\"` and `\"[END]\"`, to the input Spanish\n",
        "sentence after tokenizing the text. We will also pad the input to a fixed length.\n",
        "This can be easily done using `keras_nlp.layers.StartEndPacker`."
      ]
    },
    {
      "cell_type": "code",
      "execution_count": 14,
      "metadata": {
        "id": "bzwCtEzGkjZ6"
      },
      "outputs": [],
      "source": [
        "\n",
        "def preprocess_batch(eng, spa):\n",
        "    batch_size = tf.shape(spa)[0]\n",
        "\n",
        "    eng = eng_tokenizer(eng)\n",
        "    spa = spa_tokenizer(spa)\n",
        "\n",
        "    # Pad `eng` to `MAX_SEQUENCE_LENGTH`.\n",
        "    eng_start_end_packer = keras_nlp.layers.StartEndPacker(\n",
        "        sequence_length=MAX_SEQUENCE_LENGTH,\n",
        "        pad_value=eng_tokenizer.token_to_id(\"[PAD]\"),\n",
        "    )\n",
        "    eng = eng_start_end_packer(eng)\n",
        "\n",
        "    # Add special tokens (`\"[START]\"` and `\"[END]\"`) to `spa` and pad it as well.\n",
        "    spa_start_end_packer = keras_nlp.layers.StartEndPacker(\n",
        "        sequence_length=MAX_SEQUENCE_LENGTH + 1,\n",
        "        start_value=spa_tokenizer.token_to_id(\"[START]\"),\n",
        "        end_value=spa_tokenizer.token_to_id(\"[END]\"),\n",
        "        pad_value=spa_tokenizer.token_to_id(\"[PAD]\"),\n",
        "    )\n",
        "    spa = spa_start_end_packer(spa)\n",
        "\n",
        "    return (\n",
        "        {\n",
        "            \"encoder_inputs\": eng,\n",
        "            \"decoder_inputs\": spa[:, :-1],\n",
        "        },\n",
        "        spa[:, 1:],\n",
        "    )\n",
        "\n",
        "\n",
        "def make_dataset(pairs):\n",
        "    eng_texts, spa_texts = zip(*pairs)\n",
        "    eng_texts = list(eng_texts)\n",
        "    spa_texts = list(spa_texts)\n",
        "    dataset = tf.data.Dataset.from_tensor_slices((eng_texts, spa_texts))\n",
        "    dataset = dataset.batch(BATCH_SIZE)\n",
        "    dataset = dataset.map(preprocess_batch, num_parallel_calls=tf.data.AUTOTUNE)\n",
        "    return dataset.shuffle(2048).prefetch(16).cache()\n",
        "\n",
        "\n",
        "train_ds = make_dataset(train_pairs)\n",
        "val_ds = make_dataset(val_pairs)"
      ]
    },
    {
      "cell_type": "markdown",
      "metadata": {
        "id": "CpjH8RCtkjZ6"
      },
      "source": [
        "Let's take a quick look at the sequence shapes\n",
        "(we have batches of 64 pairs, and all sequences are 40 steps long):"
      ]
    },
    {
      "cell_type": "code",
      "execution_count": 15,
      "metadata": {
        "colab": {
          "base_uri": "https://localhost:8080/"
        },
        "id": "OEHPvYv7kjZ6",
        "outputId": "1b209d84-6c0a-4f7c-b276-b30a26840bf5"
      },
      "outputs": [
        {
          "output_type": "stream",
          "name": "stdout",
          "text": [
            "inputs[\"encoder_inputs\"].shape: (64, 40)\n",
            "inputs[\"decoder_inputs\"].shape: (64, 40)\n",
            "targets.shape: (64, 40)\n"
          ]
        }
      ],
      "source": [
        "for inputs, targets in train_ds.take(1):\n",
        "    print(f'inputs[\"encoder_inputs\"].shape: {inputs[\"encoder_inputs\"].shape}')\n",
        "    print(f'inputs[\"decoder_inputs\"].shape: {inputs[\"decoder_inputs\"].shape}')\n",
        "    print(f\"targets.shape: {targets.shape}\")\n"
      ]
    },
    {
      "cell_type": "markdown",
      "metadata": {
        "id": "a53c6iwGkjZ6"
      },
      "source": [
        "## Building the model\n",
        "\n",
        "Now, let's move on to the exciting part - defining our model!\n",
        "We first need an embedding layer, i.e., a vector for every token in our input sequence.\n",
        "This embedding layer can be initialised randomly. We also need a positional\n",
        "embedding layer which encodes the word order in the sequence. The convention is\n",
        "to add these two embeddings. KerasNLP has a `keras_nlp.layers.TokenAndPositionEmbedding `\n",
        "layer which does all of the above steps for us.\n",
        "\n",
        "Our sequence-to-sequence Transformer consists of a `keras_nlp.layers.TransformerEncoder`\n",
        "layer and a `keras_nlp.layers.TransformerDecoder` layer chained together.\n",
        "\n",
        "The source sequence will be passed to `keras_nlp.layers.TransformerEncoder`, which\n",
        "will produce a new representation of it. This new representation will then be passed\n",
        "to the `keras_nlp.layers.TransformerDecoder`, together with the target sequence\n",
        "so far (target words 0 to N). The `keras_nlp.layers.TransformerDecoder` will\n",
        "then seek to predict the next words in the target sequence (N+1 and beyond).\n",
        "\n",
        "A key detail that makes this possible is causal masking.\n",
        "The `keras_nlp.layers.TransformerDecoder` sees the entire sequence at once, and\n",
        "thus we must make sure that it only uses information from target tokens 0 to N\n",
        "when predicting token N+1 (otherwise, it could use information from the future,\n",
        "which would result in a model that cannot be used at inference time). Causal masking\n",
        "is enabled by default in `keras_nlp.layers.TransformerDecoder`.\n",
        "\n",
        "We also need to mask the padding tokens (`\"[PAD]\"`). For this, we can set the\n",
        "`mask_zero` argument of the `keras_nlp.layers.TokenAndPositionEmbedding` layer\n",
        "to True. This will then be propagated to all subsequent layers."
      ]
    },
    {
      "cell_type": "code",
      "execution_count": 16,
      "metadata": {
        "id": "GXKz36DCkjZ7"
      },
      "outputs": [],
      "source": [
        "# Encoder\n",
        "encoder_inputs = keras.Input(shape=(None,), dtype=\"int64\", name=\"encoder_inputs\")\n",
        "\n",
        "x = keras_nlp.layers.TokenAndPositionEmbedding(\n",
        "    vocabulary_size=ENG_VOCAB_SIZE,\n",
        "    sequence_length=MAX_SEQUENCE_LENGTH,\n",
        "    embedding_dim=EMBED_DIM,\n",
        "    mask_zero=True,\n",
        ")(encoder_inputs)\n",
        "\n",
        "encoder_outputs = keras_nlp.layers.TransformerEncoder(\n",
        "    intermediate_dim=INTERMEDIATE_DIM, num_heads=NUM_HEADS\n",
        ")(inputs=x)\n",
        "encoder = keras.Model(encoder_inputs, encoder_outputs)\n",
        "\n",
        "\n",
        "# Decoder\n",
        "decoder_inputs = keras.Input(shape=(None,), dtype=\"int64\", name=\"decoder_inputs\")\n",
        "encoded_seq_inputs = keras.Input(shape=(None, EMBED_DIM), name=\"decoder_state_inputs\")\n",
        "\n",
        "x = keras_nlp.layers.TokenAndPositionEmbedding(\n",
        "    vocabulary_size=SPA_VOCAB_SIZE,\n",
        "    sequence_length=MAX_SEQUENCE_LENGTH,\n",
        "    embedding_dim=EMBED_DIM,\n",
        "    mask_zero=True,\n",
        ")(decoder_inputs)\n",
        "\n",
        "x = keras_nlp.layers.TransformerDecoder(\n",
        "    intermediate_dim=INTERMEDIATE_DIM, num_heads=NUM_HEADS\n",
        ")(decoder_sequence=x, encoder_sequence=encoded_seq_inputs)\n",
        "x = keras.layers.Dropout(0.5)(x)\n",
        "decoder_outputs = keras.layers.Dense(SPA_VOCAB_SIZE, activation=\"softmax\")(x)\n",
        "decoder = keras.Model(\n",
        "    [\n",
        "        decoder_inputs,\n",
        "        encoded_seq_inputs,\n",
        "    ],\n",
        "    decoder_outputs,\n",
        ")\n",
        "decoder_outputs = decoder([decoder_inputs, encoder_outputs])\n",
        "\n",
        "transformer = keras.Model(\n",
        "    [encoder_inputs, decoder_inputs],\n",
        "    decoder_outputs,\n",
        "    name=\"transformer\",\n",
        ")"
      ]
    },
    {
      "cell_type": "markdown",
      "metadata": {
        "id": "Xg5mtdSHkjZ7"
      },
      "source": [
        "## Training our model\n",
        "\n",
        "We'll use accuracy as a quick way to monitor training progress on the validation data.\n",
        "Note that machine translation typically uses BLEU scores as well as other metrics,\n",
        "rather than accuracy. However, in order to use metrics like ROUGE, BLEU, etc. we\n",
        "will have decode the probabilities and generate the text. Text generation is\n",
        "computationally expensive, and performing this during training is not recommended.\n",
        "\n",
        "Here we only train for 1 epoch, but to get the model to actually converge\n",
        "you should train for at least 10 epochs."
      ]
    },
    {
      "cell_type": "code",
      "execution_count": 17,
      "metadata": {
        "colab": {
          "base_uri": "https://localhost:8080/"
        },
        "id": "VbMglKdzkjZ7",
        "outputId": "039c3ea6-64ef-42d8-83ac-2925300c6393"
      },
      "outputs": [
        {
          "output_type": "stream",
          "name": "stdout",
          "text": [
            "Model: \"transformer\"\n",
            "__________________________________________________________________________________________________\n",
            " Layer (type)                   Output Shape         Param #     Connected to                     \n",
            "==================================================================================================\n",
            " encoder_inputs (InputLayer)    [(None, None)]       0           []                               \n",
            "                                                                                                  \n",
            " token_and_position_embedding (  (None, None, 256)   3850240     ['encoder_inputs[0][0]']         \n",
            " TokenAndPositionEmbedding)                                                                       \n",
            "                                                                                                  \n",
            " decoder_inputs (InputLayer)    [(None, None)]       0           []                               \n",
            "                                                                                                  \n",
            " transformer_encoder (Transform  (None, None, 256)   1315072     ['token_and_position_embedding[0]\n",
            " erEncoder)                                                      [0]']                            \n",
            "                                                                                                  \n",
            " model_1 (Functional)           (None, None, 15000)  9283992     ['decoder_inputs[0][0]',         \n",
            "                                                                  'transformer_encoder[0][0]']    \n",
            "                                                                                                  \n",
            "==================================================================================================\n",
            "Total params: 14,449,304\n",
            "Trainable params: 14,449,304\n",
            "Non-trainable params: 0\n",
            "__________________________________________________________________________________________________\n",
            "Epoch 1/10\n",
            "516/516 [==============================] - 70s 110ms/step - loss: 4.7465 - accuracy: 0.3257 - val_loss: 4.0716 - val_accuracy: 0.3692\n",
            "Epoch 2/10\n",
            "516/516 [==============================] - 36s 71ms/step - loss: 3.8535 - accuracy: 0.4036 - val_loss: 3.4921 - val_accuracy: 0.4302\n",
            "Epoch 3/10\n",
            "516/516 [==============================] - 37s 72ms/step - loss: 3.3818 - accuracy: 0.4483 - val_loss: 3.1279 - val_accuracy: 0.4679\n",
            "Epoch 4/10\n",
            "516/516 [==============================] - 37s 71ms/step - loss: 3.0420 - accuracy: 0.4834 - val_loss: 2.9127 - val_accuracy: 0.4968\n",
            "Epoch 5/10\n",
            "516/516 [==============================] - 37s 71ms/step - loss: 2.7738 - accuracy: 0.5172 - val_loss: 2.7192 - val_accuracy: 0.5258\n",
            "Epoch 6/10\n",
            "516/516 [==============================] - 37s 72ms/step - loss: 2.5609 - accuracy: 0.5467 - val_loss: 2.6098 - val_accuracy: 0.5435\n",
            "Epoch 7/10\n",
            "516/516 [==============================] - 37s 71ms/step - loss: 2.3827 - accuracy: 0.5732 - val_loss: 2.5573 - val_accuracy: 0.5536\n",
            "Epoch 8/10\n",
            "516/516 [==============================] - 37s 72ms/step - loss: 2.2367 - accuracy: 0.5969 - val_loss: 2.5306 - val_accuracy: 0.5628\n",
            "Epoch 9/10\n",
            "516/516 [==============================] - 37s 71ms/step - loss: 2.1119 - accuracy: 0.6160 - val_loss: 2.5085 - val_accuracy: 0.5764\n",
            "Epoch 10/10\n",
            "516/516 [==============================] - 37s 72ms/step - loss: 2.0035 - accuracy: 0.6343 - val_loss: 2.5293 - val_accuracy: 0.5737\n"
          ]
        },
        {
          "output_type": "execute_result",
          "data": {
            "text/plain": [
              "<keras.callbacks.History at 0x7f6ce8301060>"
            ]
          },
          "metadata": {},
          "execution_count": 17
        }
      ],
      "source": [
        "transformer.summary()\n",
        "transformer.compile(\n",
        "    \"rmsprop\", loss=\"sparse_categorical_crossentropy\", metrics=[\"accuracy\"]\n",
        ")\n",
        "transformer.fit(train_ds, epochs=EPOCHS, validation_data=val_ds)"
      ]
    },
    {
      "cell_type": "markdown",
      "metadata": {
        "id": "MtqT7qRYkjZ7"
      },
      "source": [
        "## Decoding test sentences (qualitative analysis)\n",
        "\n",
        "Finally, let's demonstrate how to translate brand new English sentences.\n",
        "We simply feed into the model the tokenized English sentence\n",
        "as well as the target token `\"[START]\"`. The model outputs probabilities of the\n",
        "next token. We then we repeatedly generated the next token conditioned on the\n",
        "tokens generated so far, until we hit the token `\"[END]\"`.\n",
        "\n",
        "For decoding, we will use the `keras_nlp.samplers` module from\n",
        "KerasNLP. Greedy Decoding is a text decoding method which outputs the most\n",
        "likely next token at each time step, i.e., the token with the highest probability."
      ]
    },
    {
      "cell_type": "code",
      "execution_count": 18,
      "metadata": {
        "id": "XSoqoisvkjZ7"
      },
      "outputs": [],
      "source": [
        "\n",
        "def decode_sequences(input_sentences):\n",
        "    batch_size = tf.shape(input_sentences)[0]\n",
        "\n",
        "    # Tokenize the encoder input.\n",
        "    encoder_input_tokens = eng_tokenizer(input_sentences).to_tensor(\n",
        "        shape=(None, MAX_SEQUENCE_LENGTH)\n",
        "    )\n",
        "\n",
        "    # Define a function that outputs the next token's probability given the\n",
        "    # input sequence.\n",
        "    def next(prompt, cache, index):\n",
        "        logits = transformer([encoder_input_tokens, prompt])[:, index - 1, :]\n",
        "        # Ignore hidden states for now; only needed for contrastive search.\n",
        "        hidden_states = None\n",
        "        return logits, hidden_states, cache\n",
        "\n",
        "    # Build a prompt of length 40 with a start token and padding tokens.\n",
        "    length = 40\n",
        "    start = tf.fill((batch_size, 1), spa_tokenizer.token_to_id(\"[START]\"))\n",
        "    pad = tf.fill((batch_size, length - 1), spa_tokenizer.token_to_id(\"[PAD]\"))\n",
        "    prompt = tf.concat((start, pad), axis=-1)\n",
        "\n",
        "    generated_tokens = keras_nlp.samplers.GreedySampler()(\n",
        "        next,\n",
        "        prompt,\n",
        "        end_token_id=spa_tokenizer.token_to_id(\"[END]\"),\n",
        "        index=1,  # Start sampling after start token.\n",
        "    )\n",
        "    generated_sentences = spa_tokenizer.detokenize(generated_tokens)\n",
        "    return generated_sentences\n",
        "\n"
      ]
    },
    {
      "cell_type": "code",
      "source": [
        "\n",
        "test_eng_texts = [pair[0] for pair in test_pairs]\n",
        "for i in range(10):\n",
        "    input_sentence = random.choice(test_eng_texts)\n",
        "    translated = decode_sequences(tf.constant([input_sentence]))\n",
        "    translated = translated.numpy()[0].decode(\"utf-8\")\n",
        "    translated = (\n",
        "        translated.replace(\"[PAD]\", \"\")\n",
        "        .replace(\"[START]\", \"\")\n",
        "        .replace(\"[END]\", \"\")\n",
        "        .strip()\n",
        "    )\n",
        "    print(f\"** Example {i} **\")\n",
        "    print(input_sentence)\n",
        "    print(translated)\n",
        "    print()\n"
      ],
      "metadata": {
        "colab": {
          "base_uri": "https://localhost:8080/"
        },
        "id": "b4yCPEryl_DM",
        "outputId": "6e695370-0851-46c4-80f9-3d8f3a0b35ae"
      },
      "execution_count": 19,
      "outputs": [
        {
          "output_type": "stream",
          "name": "stdout",
          "text": [
            "** Example 0 **\n",
            "tom said he wanted to be here.\n",
            "tom powiedział , że chciał być tu być .\n",
            "\n",
            "** Example 1 **\n",
            "is it far from here?\n",
            "czy tu jest daleko ?\n",
            "\n",
            "** Example 2 **\n",
            "how often do the buses run?\n",
            "jak często głębokażczykiem ?\n",
            "\n",
            "** Example 3 **\n",
            "you could have done it.\n",
            "mógłbyś to zrobić .\n",
            "\n",
            "** Example 4 **\n",
            "i introduced her to you last week.\n",
            "w zeszłym tygodniu ją zabrałeś jej tygodniu .\n",
            "\n",
            "** Example 5 **\n",
            "the customer agrees.\n",
            "klie straszczaje się .\n",
            "\n",
            "** Example 6 **\n",
            "no one likes war.\n",
            "nikt nie lubi ostrzecraformania .\n",
            "\n",
            "** Example 7 **\n",
            "tom came here alone.\n",
            "tom przyjechał tu sama .\n",
            "\n",
            "** Example 8 **\n",
            "in most cases, car accidents result from lack of sleep.\n",
            "w zapadba , w wypadku drowie .\n",
            "\n",
            "** Example 9 **\n",
            "despair drove him to attempt suicide.\n",
            "gruporował go nagrowczyn .\n",
            "\n"
          ]
        }
      ]
    },
    {
      "cell_type": "markdown",
      "metadata": {
        "id": "Qw34fMqDkjZ7"
      },
      "source": [
        "## Evaluating our model (quantitative analysis)\n",
        "\n",
        "There are many metrics which are used for text generation tasks. Here, to\n",
        "evaluate translations generated by our model, let's compute the ROUGE-1 and\n",
        "ROUGE-2 scores. Essentially, ROUGE-N is a score based on the number of common\n",
        "n-grams between the reference text and the generated text. ROUGE-1 and ROUGE-2\n",
        "use the number of common unigrams and bigrams, respectively.\n",
        "\n",
        "We will calculate the score over 30 test samples (since decoding is an\n",
        "expensive process)."
      ]
    },
    {
      "cell_type": "code",
      "execution_count": 20,
      "metadata": {
        "colab": {
          "base_uri": "https://localhost:8080/"
        },
        "id": "MQ56hRY6kjZ8",
        "outputId": "78dcf08e-c38d-46cd-dc7e-632cf42f5dbe"
      },
      "outputs": [
        {
          "output_type": "stream",
          "name": "stdout",
          "text": [
            "ROUGE-1 Score:  {'precision': <tf.Tensor: shape=(), dtype=float32, numpy=0.5998991>, 'recall': <tf.Tensor: shape=(), dtype=float32, numpy=0.5713756>, 'f1_score': <tf.Tensor: shape=(), dtype=float32, numpy=0.5788744>}\n",
            "ROUGE-2 Score:  {'precision': <tf.Tensor: shape=(), dtype=float32, numpy=0.3925>, 'recall': <tf.Tensor: shape=(), dtype=float32, numpy=0.38562772>, 'f1_score': <tf.Tensor: shape=(), dtype=float32, numpy=0.38414416>}\n"
          ]
        }
      ],
      "source": [
        "rouge_1 = keras_nlp.metrics.RougeN(order=1)\n",
        "rouge_2 = keras_nlp.metrics.RougeN(order=2)\n",
        "\n",
        "for test_pair in test_pairs[:30]:\n",
        "    input_sentence = test_pair[0]\n",
        "    reference_sentence = test_pair[1]\n",
        "\n",
        "    translated_sentence = decode_sequences(tf.constant([input_sentence]))\n",
        "    translated_sentence = translated_sentence.numpy()[0].decode(\"utf-8\")\n",
        "    translated_sentence = (\n",
        "        translated_sentence.replace(\"[PAD]\", \"\")\n",
        "        .replace(\"[START]\", \"\")\n",
        "        .replace(\"[END]\", \"\")\n",
        "        .strip()\n",
        "    )\n",
        "\n",
        "    rouge_1(reference_sentence, translated_sentence)\n",
        "    rouge_2(reference_sentence, translated_sentence)\n",
        "\n",
        "print(\"ROUGE-1 Score: \", rouge_1.result())\n",
        "print(\"ROUGE-2 Score: \", rouge_2.result())"
      ]
    },
    {
      "cell_type": "markdown",
      "metadata": {
        "id": "fsA112dJkjZ8"
      },
      "source": [
        "After 10 epochs, the scores are as follows:\n",
        "\n",
        "|               | **ROUGE-1** | **ROUGE-2** |\n",
        "|:-------------:|:-----------:|:-----------:|\n",
        "| **Precision** |    0.568    |    0.374    |\n",
        "|   **Recall**  |    0.615    |    0.394    |\n",
        "|  **F1 Score** |    0.579    |    0.381    |"
      ]
    }
  ],
  "metadata": {
    "accelerator": "GPU",
    "colab": {
      "name": "neural_machine_translation_with_keras_nlp",
      "provenance": [],
      "gpuType": "T4"
    },
    "kernelspec": {
      "display_name": "Python 3",
      "name": "python3"
    },
    "language_info": {
      "codemirror_mode": {
        "name": "ipython",
        "version": 3
      },
      "file_extension": ".py",
      "mimetype": "text/x-python",
      "name": "python",
      "nbconvert_exporter": "python",
      "pygments_lexer": "ipython3",
      "version": "3.7.0"
    }
  },
  "nbformat": 4,
  "nbformat_minor": 0
}