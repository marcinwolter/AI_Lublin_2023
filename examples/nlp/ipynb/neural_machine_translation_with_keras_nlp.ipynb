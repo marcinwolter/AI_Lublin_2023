{
  "cells": [
    {
      "cell_type": "markdown",
      "metadata": {
        "id": "JzSEQ-LQiq_H"
      },
      "source": [
        "# English-to-Spanish translation with KerasNLP\n",
        "\n",
        "**Author:** [Abheesht Sharma](https://github.com/abheesht17/)<br>\n",
        "**Date created:** 2022/05/26<br>\n",
        "**Last modified:** 2022/12/21<br>\n",
        "**Description:** Use KerasNLP to train a sequence-to-sequence Transformer model on the machine translation task."
      ]
    },
    {
      "cell_type": "markdown",
      "metadata": {
        "id": "C0Z31ndTiq_K"
      },
      "source": [
        "## Introduction\n",
        "\n",
        "KerasNLP provides building blocks for NLP (model layers, tokenizers, metrics, etc.) and\n",
        "makes it convenient to construct NLP pipelines.\n",
        "\n",
        "In this example, we'll use KerasNLP layers to build an encoder-decoder Transformer\n",
        "model, and train it on the English-to-Spanish machine translation task.\n",
        "\n",
        "This example is based on the\n",
        "[English-to-Spanish NMT\n",
        "example](https://keras.io/examples/nlp/neural_machine_translation_with_transformer/)\n",
        "by [fchollet](https://twitter.com/fchollet). The original example is more low-level\n",
        "and implements layers from scratch, whereas this example uses KerasNLP to show\n",
        "some more advanced approaches, such as subword tokenization and using metrics\n",
        "to compute the quality of generated translations.\n",
        "\n",
        "You'll learn how to:\n",
        "\n",
        "- Tokenize text using `keras_nlp.tokenizers.WordPieceTokenizer`.\n",
        "- Implement a sequence-to-sequence Transformer model using KerasNLP's\n",
        "`keras_nlp.layers.TransformerEncoder`, `keras_nlp.layers.TransformerDecoder` and\n",
        "`keras_nlp.layers.TokenAndPositionEmbedding` layers, and train it.\n",
        "- Use `keras_nlp.samplers` to generate translations of unseen input sentences\n",
        " using the top-p decoding strategy!\n",
        "\n",
        "Don't worry if you aren't familiar with KerasNLP. This tutorial will start with\n",
        "the basics. Let's dive right in!"
      ]
    },
    {
      "cell_type": "markdown",
      "metadata": {
        "id": "yS7gHVVViq_L"
      },
      "source": [
        "## Setup\n",
        "\n",
        "Before we start implementing the pipeline, let's import all the libraries we need."
      ]
    },
    {
      "cell_type": "code",
      "execution_count": 1,
      "metadata": {
        "colab": {
          "base_uri": "https://localhost:8080/"
        },
        "id": "Of0Lu3Lwiq_L",
        "outputId": "1a904dc2-46ea-4eb6-a6fb-f7a7180bad54"
      },
      "outputs": [
        {
          "output_type": "execute_result",
          "data": {
            "text/plain": [
              "['  Installing build dependencies ... \\x1b[?25l\\x1b[?25hdone',\n",
              " '  Getting requirements to build wheel ... \\x1b[?25l\\x1b[?25hdone',\n",
              " '  Preparing metadata (pyproject.toml) ... \\x1b[?25l\\x1b[?25hdone',\n",
              " '\\x1b[?25l     \\x1b[90m━━━━━━━━━━━━━━━━━━━━━━━━━━━━━━━━━━━━━━━━\\x1b[0m \\x1b[32m0.0/6.0 MB\\x1b[0m \\x1b[31m?\\x1b[0m eta \\x1b[36m-:--:--\\x1b[0m',\n",
              " '\\x1b[2K     \\x1b[91m━━\\x1b[0m\\x1b[90m╺\\x1b[0m\\x1b[90m━━━━━━━━━━━━━━━━━━━━━━━━━━━━━━━━━━━━━\\x1b[0m \\x1b[32m0.3/6.0 MB\\x1b[0m \\x1b[31m9.4 MB/s\\x1b[0m eta \\x1b[36m0:00:01\\x1b[0m',\n",
              " '\\x1b[2K     \\x1b[91m━━━━━━━━━━━━━━━━\\x1b[0m\\x1b[91m╸\\x1b[0m\\x1b[90m━━━━━━━━━━━━━━━━━━━━━━━\\x1b[0m \\x1b[32m2.5/6.0 MB\\x1b[0m \\x1b[31m37.4 MB/s\\x1b[0m eta \\x1b[36m0:00:01\\x1b[0m',\n",
              " '\\x1b[2K     \\x1b[91m━━━━━━━━━━━━━━━━━━━━━━━━━━━\\x1b[0m\\x1b[91m╸\\x1b[0m\\x1b[90m━━━━━━━━━━━━\\x1b[0m \\x1b[32m4.2/6.0 MB\\x1b[0m \\x1b[31m50.3 MB/s\\x1b[0m eta \\x1b[36m0:00:01\\x1b[0m',\n",
              " '\\x1b[2K     \\x1b[90m━━━━━━━━━━━━━━━━━━━━━━━━━━━━━━━━━━━━━━━━\\x1b[0m \\x1b[32m6.0/6.0 MB\\x1b[0m \\x1b[31m43.6 MB/s\\x1b[0m eta \\x1b[36m0:00:00\\x1b[0m',\n",
              " '\\x1b[?25h  Building wheel for keras-nlp (pyproject.toml) ... \\x1b[?25l\\x1b[?25hdone']"
            ]
          },
          "metadata": {},
          "execution_count": 1
        }
      ],
      "source": [
        "!!pip install -q rouge-score\n",
        "!!pip install -q git+https://github.com/keras-team/keras-nlp.git --upgrade"
      ]
    },
    {
      "cell_type": "code",
      "execution_count": 2,
      "metadata": {
        "id": "dZjEJxMHiq_M"
      },
      "outputs": [],
      "source": [
        "import keras_nlp\n",
        "import pathlib\n",
        "import random\n",
        "import tensorflow as tf\n",
        "\n",
        "from tensorflow import keras\n",
        "from tensorflow_text.tools.wordpiece_vocab import (\n",
        "    bert_vocab_from_dataset as bert_vocab,\n",
        ")"
      ]
    },
    {
      "cell_type": "markdown",
      "metadata": {
        "id": "N0kOZUKviq_M"
      },
      "source": [
        "Let's also define our parameters/hyperparameters."
      ]
    },
    {
      "cell_type": "code",
      "execution_count": 3,
      "metadata": {
        "id": "zrE1xtl9iq_N"
      },
      "outputs": [],
      "source": [
        "BATCH_SIZE = 64\n",
        "EPOCHS = 1  # This should be at least 10 for convergence\n",
        "MAX_SEQUENCE_LENGTH = 40\n",
        "ENG_VOCAB_SIZE = 15000\n",
        "SPA_VOCAB_SIZE = 15000\n",
        "\n",
        "EMBED_DIM = 256\n",
        "INTERMEDIATE_DIM = 2048\n",
        "NUM_HEADS = 8"
      ]
    },
    {
      "cell_type": "markdown",
      "metadata": {
        "id": "zAZjcY9viq_N"
      },
      "source": [
        "## Downloading the data\n",
        "\n",
        "We'll be working with an English-to-Spanish translation dataset\n",
        "provided by [Anki](https://www.manythings.org/anki/). Let's download it:"
      ]
    },
    {
      "cell_type": "code",
      "execution_count": 4,
      "metadata": {
        "colab": {
          "base_uri": "https://localhost:8080/",
          "height": 313
        },
        "id": "hYbRzNUUiq_O",
        "outputId": "67f34482-eb3f-49ec-91da-7b8d5df76ea0"
      },
      "outputs": [
        {
          "output_type": "stream",
          "name": "stdout",
          "text": [
            "--2023-06-08 01:37:30--  https://www.manythings.org/anki/pol-eng.zip\n",
            "Resolving www.manythings.org (www.manythings.org)... 173.254.30.110\n",
            "Connecting to www.manythings.org (www.manythings.org)|173.254.30.110|:443... connected.\n",
            "HTTP request sent, awaiting response... 200 OK\n",
            "Length: 1868937 (1.8M) [application/zip]\n",
            "Saving to: ‘pol-eng.zip’\n",
            "\n",
            "pol-eng.zip         100%[===================>]   1.78M  11.3MB/s    in 0.2s    \n",
            "\n",
            "2023-06-08 01:37:31 (11.3 MB/s) - ‘pol-eng.zip’ saved [1868937/1868937]\n",
            "\n",
            "Archive:  pol-eng.zip\n",
            "  inflating: pol.txt                 \n",
            "  inflating: _about.txt              \n"
          ]
        },
        {
          "output_type": "execute_result",
          "data": {
            "text/plain": [
              "'\\ntext_file = keras.utils.get_file(\\n    fname=\"pol-eng.zip\",\\n    origin=\"./pol-eng.zip\",\\n    extract=True,\\n)\\ntext_file = pathlib.Path(text_file).parent / \"pol-eng\" / \"pol.txt\"\\n'"
            ],
            "application/vnd.google.colaboratory.intrinsic+json": {
              "type": "string"
            }
          },
          "metadata": {},
          "execution_count": 4
        }
      ],
      "source": [
        "! wget https://www.manythings.org/anki/pol-eng.zip\n",
        "! unzip pol-eng.zip\n",
        "text_file = \"pol.txt\"\n",
        "\n",
        "'''\n",
        "text_file = keras.utils.get_file(\n",
        "    fname=\"pol-eng.zip\",\n",
        "    origin=\"./pol-eng.zip\",\n",
        "    extract=True,\n",
        ")\n",
        "text_file = pathlib.Path(text_file).parent / \"pol-eng\" / \"pol.txt\"\n",
        "'''"
      ]
    },
    {
      "cell_type": "markdown",
      "metadata": {
        "id": "jSNQogjHiq_O"
      },
      "source": [
        "## Parsing the data\n",
        "\n",
        "Each line contains an English sentence and its corresponding Spanish sentence.\n",
        "The English sentence is the *source sequence* and Spanish one is the *target sequence*.\n",
        "Before adding the text to a list, we convert it to lowercase."
      ]
    },
    {
      "cell_type": "code",
      "execution_count": 5,
      "metadata": {
        "id": "p5soZgwaiq_O"
      },
      "outputs": [],
      "source": [
        "with open(text_file) as f:\n",
        "    lines = f.read().split(\"\\n\")[:-1]\n",
        "text_pairs = []\n",
        "for line in lines:\n",
        "    eng, spa, _ = line.split(\"\\t\")\n",
        "    eng = eng.lower()\n",
        "    spa = spa.lower()\n",
        "    text_pairs.append((eng, spa))"
      ]
    },
    {
      "cell_type": "markdown",
      "metadata": {
        "id": "nyLnCPMOiq_P"
      },
      "source": [
        "Here's what our sentence pairs look like:"
      ]
    },
    {
      "cell_type": "code",
      "execution_count": 6,
      "metadata": {
        "colab": {
          "base_uri": "https://localhost:8080/"
        },
        "id": "-yM9utCaiq_P",
        "outputId": "1ef7ce5b-fc8e-4108-8c72-f54eabf80ab9"
      },
      "outputs": [
        {
          "output_type": "stream",
          "name": "stdout",
          "text": [
            "('this book is yours.', 'ta książka jest twoja.')\n",
            "('tom is angry with mary.', 'tom jest wściekły na mary.')\n",
            "(\"it's time to talk.\", 'czas porozmawiać.')\n",
            "('i tried to get tom to tell me.', 'próbowałem przekonać toma, żeby mi powiedział.')\n",
            "('my heart hurts.', 'serce mnie boli.')\n"
          ]
        }
      ],
      "source": [
        "for _ in range(5):\n",
        "    print(random.choice(text_pairs))"
      ]
    },
    {
      "cell_type": "markdown",
      "metadata": {
        "id": "N2ztR4dziq_P"
      },
      "source": [
        "Now, let's split the sentence pairs into a training set, a validation set,\n",
        "and a test set."
      ]
    },
    {
      "cell_type": "code",
      "execution_count": 7,
      "metadata": {
        "colab": {
          "base_uri": "https://localhost:8080/"
        },
        "id": "7N1saSFdiq_P",
        "outputId": "cec6606d-5fbf-4970-b527-6f511c168531"
      },
      "outputs": [
        {
          "output_type": "stream",
          "name": "stdout",
          "text": [
            "47159 total pairs\n",
            "33013 training pairs\n",
            "7073 validation pairs\n",
            "7073 test pairs\n"
          ]
        }
      ],
      "source": [
        "random.shuffle(text_pairs)\n",
        "num_val_samples = int(0.15 * len(text_pairs))\n",
        "num_train_samples = len(text_pairs) - 2 * num_val_samples\n",
        "train_pairs = text_pairs[:num_train_samples]\n",
        "val_pairs = text_pairs[num_train_samples : num_train_samples + num_val_samples]\n",
        "test_pairs = text_pairs[num_train_samples + num_val_samples :]\n",
        "\n",
        "print(f\"{len(text_pairs)} total pairs\")\n",
        "print(f\"{len(train_pairs)} training pairs\")\n",
        "print(f\"{len(val_pairs)} validation pairs\")\n",
        "print(f\"{len(test_pairs)} test pairs\")\n"
      ]
    },
    {
      "cell_type": "markdown",
      "metadata": {
        "id": "vPfU5m1Qiq_Q"
      },
      "source": [
        "## Tokenizing the data\n",
        "\n",
        "We'll define two tokenizers - one for the source language (English), and the other\n",
        "for the target language (Polish). We'll be using\n",
        "`keras_nlp.tokenizers.WordPieceTokenizer` to tokenize the text.\n",
        "`keras_nlp.tokenizers.WordPieceTokenizer` takes a WordPiece vocabulary\n",
        "and has functions for tokenizing the text, and detokenizing sequences of tokens.\n",
        "\n",
        "Before we define the two tokenizers, we first need to train them on the dataset\n",
        "we have. The WordPiece tokenization algorithm is a subword tokenization algorithm;\n",
        "training it on a corpus gives us a vocabulary of subwords. A subword tokenizer\n",
        "is a compromise between word tokenizers (word tokenizers need very large\n",
        "vocabularies for good coverage of input words), and character tokenizers\n",
        "(characters don't really encode meaning like words do). Luckily, KerasNLP\n",
        "makes it very simple to train WordPiece on a corpus with the\n",
        "`keras_nlp.tokenizers.compute_word_piece_vocabulary` utility."
      ]
    },
    {
      "cell_type": "code",
      "execution_count": 8,
      "metadata": {
        "id": "fR2nB1WUiq_Q"
      },
      "outputs": [],
      "source": [
        "\n",
        "def train_word_piece(text_samples, vocab_size, reserved_tokens):\n",
        "    word_piece_ds = tf.data.Dataset.from_tensor_slices(text_samples)\n",
        "    vocab = keras_nlp.tokenizers.compute_word_piece_vocabulary(\n",
        "        word_piece_ds.batch(1000).prefetch(2),\n",
        "        vocabulary_size=vocab_size,\n",
        "        reserved_tokens=reserved_tokens,\n",
        "    )\n",
        "    return vocab\n"
      ]
    },
    {
      "cell_type": "markdown",
      "metadata": {
        "id": "wBNO2NpMiq_Q"
      },
      "source": [
        "Every vocabulary has a few special, reserved tokens. We have four such tokens:\n",
        "\n",
        "- `\"[PAD]\"` - Padding token. Padding tokens are appended to the input sequence\n",
        "length when the input sequence length is shorter than the maximum sequence length.\n",
        "- `\"[UNK]\"` - Unknown token.\n",
        "- `\"[START]\"` - Token that marks the start of the input sequence.\n",
        "- `\"[END]\"` - Token that marks the end of the input sequence."
      ]
    },
    {
      "cell_type": "code",
      "execution_count": 9,
      "metadata": {
        "id": "xMzZr0fyiq_Q"
      },
      "outputs": [],
      "source": [
        "reserved_tokens = [\"[PAD]\", \"[UNK]\", \"[START]\", \"[END]\"]\n",
        "\n",
        "eng_samples = [text_pair[0] for text_pair in train_pairs]\n",
        "eng_vocab = train_word_piece(eng_samples, ENG_VOCAB_SIZE, reserved_tokens)\n",
        "\n",
        "spa_samples = [text_pair[1] for text_pair in train_pairs]\n",
        "spa_vocab = train_word_piece(spa_samples, SPA_VOCAB_SIZE, reserved_tokens)"
      ]
    },
    {
      "cell_type": "markdown",
      "metadata": {
        "id": "a9W1veVuiq_Q"
      },
      "source": [
        "Let's see some tokens!"
      ]
    },
    {
      "cell_type": "code",
      "execution_count": 10,
      "metadata": {
        "colab": {
          "base_uri": "https://localhost:8080/"
        },
        "id": "tD82wOfPiq_R",
        "outputId": "663fc796-4b45-40ad-c7c6-4c79e5be86a2"
      },
      "outputs": [
        {
          "output_type": "stream",
          "name": "stdout",
          "text": [
            "English Tokens:  ['they', 'think', 'here', 'has', 'will', 'all', '##ing', 'time', '##ed', 'him']\n",
            "Polish Tokens:  ['mogę', 'tym', 'tak', '##y', '##j', 'ten', 'zrobić', 'już', '##sz', 'cię']\n"
          ]
        }
      ],
      "source": [
        "print(\"English Tokens: \", eng_vocab[100:110])\n",
        "print(\"Polish Tokens: \", spa_vocab[100:110])"
      ]
    },
    {
      "cell_type": "markdown",
      "metadata": {
        "id": "PkPGa4GXiq_R"
      },
      "source": [
        "Now, let's define the tokenizers. We will configure the tokenizers with the\n",
        "the vocabularies trained above."
      ]
    },
    {
      "cell_type": "code",
      "execution_count": 11,
      "metadata": {
        "id": "kqTbldnLiq_R"
      },
      "outputs": [],
      "source": [
        "eng_tokenizer = keras_nlp.tokenizers.WordPieceTokenizer(\n",
        "    vocabulary=eng_vocab, lowercase=False\n",
        ")\n",
        "spa_tokenizer = keras_nlp.tokenizers.WordPieceTokenizer(\n",
        "    vocabulary=spa_vocab, lowercase=False\n",
        ")"
      ]
    },
    {
      "cell_type": "markdown",
      "metadata": {
        "id": "ui3qV2cKiq_R"
      },
      "source": [
        "Let's try and tokenize a sample from our dataset! To verify whether the text has\n",
        "been tokenized correctly, we can also detokenize the list of tokens back to the\n",
        "original text."
      ]
    },
    {
      "cell_type": "code",
      "execution_count": 12,
      "metadata": {
        "colab": {
          "base_uri": "https://localhost:8080/"
        },
        "id": "aNwC8HWpiq_R",
        "outputId": "ed343716-56ad-4320-ab22-9a2b6f23a2cb"
      },
      "outputs": [
        {
          "output_type": "stream",
          "name": "stdout",
          "text": [
            "English sentence:  you think too much.\n",
            "Tokens:  tf.Tensor([ 55 101 152 156  12], shape=(5,), dtype=int32)\n",
            "Recovered text after detokenizing:  tf.Tensor(b'you think too much .', shape=(), dtype=string)\n",
            "\n",
            "Polish sentence:  za dużo myślisz.\n",
            "Tokens:  tf.Tensor([ 94 178 291  14], shape=(4,), dtype=int32)\n",
            "Recovered text after detokenizing:  tf.Tensor(b'za du\\xc5\\xbco my\\xc5\\x9blisz .', shape=(), dtype=string)\n"
          ]
        }
      ],
      "source": [
        "eng_input_ex = text_pairs[0][0]\n",
        "eng_tokens_ex = eng_tokenizer.tokenize(eng_input_ex)\n",
        "print(\"English sentence: \", eng_input_ex)\n",
        "print(\"Tokens: \", eng_tokens_ex)\n",
        "print(\n",
        "    \"Recovered text after detokenizing: \",\n",
        "    eng_tokenizer.detokenize(eng_tokens_ex),\n",
        ")\n",
        "\n",
        "print()\n",
        "\n",
        "spa_input_ex = text_pairs[0][1]\n",
        "spa_tokens_ex = spa_tokenizer.tokenize(spa_input_ex)\n",
        "print(\"Polish sentence: \", spa_input_ex)\n",
        "print(\"Tokens: \", spa_tokens_ex)\n",
        "print(\n",
        "    \"Recovered text after detokenizing: \",\n",
        "    spa_tokenizer.detokenize(spa_tokens_ex),\n",
        ")"
      ]
    },
    {
      "cell_type": "markdown",
      "metadata": {
        "id": "x8VL8hw8iq_R"
      },
      "source": [
        "## Format datasets\n",
        "\n",
        "Next, we'll format our datasets.\n",
        "\n",
        "At each training step, the model will seek to predict target words N+1 (and beyond)\n",
        "using the source sentence and the target words 0 to N.\n",
        "\n",
        "As such, the training dataset will yield a tuple `(inputs, targets)`, where:\n",
        "\n",
        "- `inputs` is a dictionary with the keys `encoder_inputs` and `decoder_inputs`.\n",
        "`encoder_inputs` is the tokenized source sentence and `decoder_inputs` is the target\n",
        "sentence \"so far\",\n",
        "that is to say, the words 0 to N used to predict word N+1 (and beyond) in the target\n",
        "sentence.\n",
        "- `target` is the target sentence offset by one step:\n",
        "it provides the next words in the target sentence -- what the model will try to predict.\n",
        "\n",
        "We will add special tokens, `\"[START]\"` and `\"[END]\"`, to the input Spanish\n",
        "sentence after tokenizing the text. We will also pad the input to a fixed length.\n",
        "This can be easily done using `keras_nlp.layers.StartEndPacker`."
      ]
    },
    {
      "cell_type": "code",
      "execution_count": 13,
      "metadata": {
        "id": "PDc22ypuiq_S"
      },
      "outputs": [],
      "source": [
        "\n",
        "def preprocess_batch(eng, spa):\n",
        "    batch_size = tf.shape(spa)[0]\n",
        "\n",
        "    eng = eng_tokenizer(eng)\n",
        "    spa = spa_tokenizer(spa)\n",
        "\n",
        "    # Pad `eng` to `MAX_SEQUENCE_LENGTH`.\n",
        "    eng_start_end_packer = keras_nlp.layers.StartEndPacker(\n",
        "        sequence_length=MAX_SEQUENCE_LENGTH,\n",
        "        pad_value=eng_tokenizer.token_to_id(\"[PAD]\"),\n",
        "    )\n",
        "    eng = eng_start_end_packer(eng)\n",
        "\n",
        "    # Add special tokens (`\"[START]\"` and `\"[END]\"`) to `spa` and pad it as well.\n",
        "    spa_start_end_packer = keras_nlp.layers.StartEndPacker(\n",
        "        sequence_length=MAX_SEQUENCE_LENGTH + 1,\n",
        "        start_value=spa_tokenizer.token_to_id(\"[START]\"),\n",
        "        end_value=spa_tokenizer.token_to_id(\"[END]\"),\n",
        "        pad_value=spa_tokenizer.token_to_id(\"[PAD]\"),\n",
        "    )\n",
        "    spa = spa_start_end_packer(spa)\n",
        "\n",
        "    return (\n",
        "        {\n",
        "            \"encoder_inputs\": eng,\n",
        "            \"decoder_inputs\": spa[:, :-1],\n",
        "        },\n",
        "        spa[:, 1:],\n",
        "    )\n",
        "\n",
        "\n",
        "def make_dataset(pairs):\n",
        "    eng_texts, spa_texts = zip(*pairs)\n",
        "    eng_texts = list(eng_texts)\n",
        "    spa_texts = list(spa_texts)\n",
        "    dataset = tf.data.Dataset.from_tensor_slices((eng_texts, spa_texts))\n",
        "    dataset = dataset.batch(BATCH_SIZE)\n",
        "    dataset = dataset.map(preprocess_batch, num_parallel_calls=tf.data.AUTOTUNE)\n",
        "    return dataset.shuffle(2048).prefetch(16).cache()\n",
        "\n",
        "\n",
        "train_ds = make_dataset(train_pairs)\n",
        "val_ds = make_dataset(val_pairs)"
      ]
    },
    {
      "cell_type": "markdown",
      "metadata": {
        "id": "QsSBiEZHiq_S"
      },
      "source": [
        "Let's take a quick look at the sequence shapes\n",
        "(we have batches of 64 pairs, and all sequences are 40 steps long):"
      ]
    },
    {
      "cell_type": "code",
      "execution_count": 14,
      "metadata": {
        "colab": {
          "base_uri": "https://localhost:8080/"
        },
        "id": "fS9-G3nDiq_S",
        "outputId": "acabe0c8-32db-4031-b719-3b1784756f1d"
      },
      "outputs": [
        {
          "output_type": "stream",
          "name": "stdout",
          "text": [
            "inputs[\"encoder_inputs\"].shape: (64, 40)\n",
            "inputs[\"decoder_inputs\"].shape: (64, 40)\n",
            "targets.shape: (64, 40)\n"
          ]
        }
      ],
      "source": [
        "for inputs, targets in train_ds.take(1):\n",
        "    print(f'inputs[\"encoder_inputs\"].shape: {inputs[\"encoder_inputs\"].shape}')\n",
        "    print(f'inputs[\"decoder_inputs\"].shape: {inputs[\"decoder_inputs\"].shape}')\n",
        "    print(f\"targets.shape: {targets.shape}\")\n"
      ]
    },
    {
      "cell_type": "markdown",
      "metadata": {
        "id": "87iaNp4fiq_S"
      },
      "source": [
        "## Building the model\n",
        "\n",
        "Now, let's move on to the exciting part - defining our model!\n",
        "We first need an embedding layer, i.e., a vector for every token in our input sequence.\n",
        "This embedding layer can be initialised randomly. We also need a positional\n",
        "embedding layer which encodes the word order in the sequence. The convention is\n",
        "to add these two embeddings. KerasNLP has a `keras_nlp.layers.TokenAndPositionEmbedding `\n",
        "layer which does all of the above steps for us.\n",
        "\n",
        "Our sequence-to-sequence Transformer consists of a `keras_nlp.layers.TransformerEncoder`\n",
        "layer and a `keras_nlp.layers.TransformerDecoder` layer chained together.\n",
        "\n",
        "The source sequence will be passed to `keras_nlp.layers.TransformerEncoder`, which\n",
        "will produce a new representation of it. This new representation will then be passed\n",
        "to the `keras_nlp.layers.TransformerDecoder`, together with the target sequence\n",
        "so far (target words 0 to N). The `keras_nlp.layers.TransformerDecoder` will\n",
        "then seek to predict the next words in the target sequence (N+1 and beyond).\n",
        "\n",
        "A key detail that makes this possible is causal masking.\n",
        "The `keras_nlp.layers.TransformerDecoder` sees the entire sequence at once, and\n",
        "thus we must make sure that it only uses information from target tokens 0 to N\n",
        "when predicting token N+1 (otherwise, it could use information from the future,\n",
        "which would result in a model that cannot be used at inference time). Causal masking\n",
        "is enabled by default in `keras_nlp.layers.TransformerDecoder`.\n",
        "\n",
        "We also need to mask the padding tokens (`\"[PAD]\"`). For this, we can set the\n",
        "`mask_zero` argument of the `keras_nlp.layers.TokenAndPositionEmbedding` layer\n",
        "to True. This will then be propagated to all subsequent layers."
      ]
    },
    {
      "cell_type": "code",
      "execution_count": 15,
      "metadata": {
        "id": "R7dGcMrBiq_S"
      },
      "outputs": [],
      "source": [
        "# Encoder\n",
        "encoder_inputs = keras.Input(shape=(None,), dtype=\"int64\", name=\"encoder_inputs\")\n",
        "\n",
        "x = keras_nlp.layers.TokenAndPositionEmbedding(\n",
        "    vocabulary_size=ENG_VOCAB_SIZE,\n",
        "    sequence_length=MAX_SEQUENCE_LENGTH,\n",
        "    embedding_dim=EMBED_DIM,\n",
        "    mask_zero=True,\n",
        ")(encoder_inputs)\n",
        "\n",
        "encoder_outputs = keras_nlp.layers.TransformerEncoder(\n",
        "    intermediate_dim=INTERMEDIATE_DIM, num_heads=NUM_HEADS\n",
        ")(inputs=x)\n",
        "encoder = keras.Model(encoder_inputs, encoder_outputs)\n",
        "\n",
        "\n",
        "# Decoder\n",
        "decoder_inputs = keras.Input(shape=(None,), dtype=\"int64\", name=\"decoder_inputs\")\n",
        "encoded_seq_inputs = keras.Input(shape=(None, EMBED_DIM), name=\"decoder_state_inputs\")\n",
        "\n",
        "x = keras_nlp.layers.TokenAndPositionEmbedding(\n",
        "    vocabulary_size=SPA_VOCAB_SIZE,\n",
        "    sequence_length=MAX_SEQUENCE_LENGTH,\n",
        "    embedding_dim=EMBED_DIM,\n",
        "    mask_zero=True,\n",
        ")(decoder_inputs)\n",
        "\n",
        "x = keras_nlp.layers.TransformerDecoder(\n",
        "    intermediate_dim=INTERMEDIATE_DIM, num_heads=NUM_HEADS\n",
        ")(decoder_sequence=x, encoder_sequence=encoded_seq_inputs)\n",
        "x = keras.layers.Dropout(0.5)(x)\n",
        "decoder_outputs = keras.layers.Dense(SPA_VOCAB_SIZE, activation=\"softmax\")(x)\n",
        "decoder = keras.Model(\n",
        "    [\n",
        "        decoder_inputs,\n",
        "        encoded_seq_inputs,\n",
        "    ],\n",
        "    decoder_outputs,\n",
        ")\n",
        "decoder_outputs = decoder([decoder_inputs, encoder_outputs])\n",
        "\n",
        "transformer = keras.Model(\n",
        "    [encoder_inputs, decoder_inputs],\n",
        "    decoder_outputs,\n",
        "    name=\"transformer\",\n",
        ")"
      ]
    },
    {
      "cell_type": "markdown",
      "metadata": {
        "id": "fTZR6D0qiq_T"
      },
      "source": [
        "## Training our model\n",
        "\n",
        "We'll use accuracy as a quick way to monitor training progress on the validation data.\n",
        "Note that machine translation typically uses BLEU scores as well as other metrics,\n",
        "rather than accuracy. However, in order to use metrics like ROUGE, BLEU, etc. we\n",
        "will have decode the probabilities and generate the text. Text generation is\n",
        "computationally expensive, and performing this during training is not recommended.\n",
        "\n",
        "Here we only train for 1 epoch, but to get the model to actually converge\n",
        "you should train for at least 10 epochs."
      ]
    },
    {
      "cell_type": "code",
      "execution_count": 16,
      "metadata": {
        "colab": {
          "base_uri": "https://localhost:8080/"
        },
        "id": "82d7_g1Biq_T",
        "outputId": "b0240511-c07a-495b-f9cd-d4b843c0cfb5"
      },
      "outputs": [
        {
          "output_type": "stream",
          "name": "stdout",
          "text": [
            "Model: \"transformer\"\n",
            "__________________________________________________________________________________________________\n",
            " Layer (type)                   Output Shape         Param #     Connected to                     \n",
            "==================================================================================================\n",
            " encoder_inputs (InputLayer)    [(None, None)]       0           []                               \n",
            "                                                                                                  \n",
            " token_and_position_embedding (  (None, None, 256)   3850240     ['encoder_inputs[0][0]']         \n",
            " TokenAndPositionEmbedding)                                                                       \n",
            "                                                                                                  \n",
            " decoder_inputs (InputLayer)    [(None, None)]       0           []                               \n",
            "                                                                                                  \n",
            " transformer_encoder (Transform  (None, None, 256)   1315072     ['token_and_position_embedding[0]\n",
            " erEncoder)                                                      [0]']                            \n",
            "                                                                                                  \n",
            " model_1 (Functional)           (None, None, 15000)  9283992     ['decoder_inputs[0][0]',         \n",
            "                                                                  'transformer_encoder[0][0]']    \n",
            "                                                                                                  \n",
            "==================================================================================================\n",
            "Total params: 14,449,304\n",
            "Trainable params: 14,449,304\n",
            "Non-trainable params: 0\n",
            "__________________________________________________________________________________________________\n",
            "516/516 [==============================] - 73s 114ms/step - loss: 4.7493 - accuracy: 0.3252 - val_loss: 4.0879 - val_accuracy: 0.3741\n"
          ]
        },
        {
          "output_type": "execute_result",
          "data": {
            "text/plain": [
              "<keras.callbacks.History at 0x7f4cc8165ab0>"
            ]
          },
          "metadata": {},
          "execution_count": 16
        }
      ],
      "source": [
        "transformer.summary()\n",
        "transformer.compile(\n",
        "    \"rmsprop\", loss=\"sparse_categorical_crossentropy\", metrics=[\"accuracy\"]\n",
        ")\n",
        "transformer.fit(train_ds, epochs=EPOCHS, validation_data=val_ds)"
      ]
    },
    {
      "cell_type": "markdown",
      "metadata": {
        "id": "yZbGHEaIiq_T"
      },
      "source": [
        "## Decoding test sentences (qualitative analysis)\n",
        "\n",
        "Finally, let's demonstrate how to translate brand new English sentences.\n",
        "We simply feed into the model the tokenized English sentence\n",
        "as well as the target token `\"[START]\"`. The model outputs probabilities of the\n",
        "next token. We then we repeatedly generated the next token conditioned on the\n",
        "tokens generated so far, until we hit the token `\"[END]\"`.\n",
        "\n",
        "For decoding, we will use the `keras_nlp.samplers` module from\n",
        "KerasNLP. Greedy Decoding is a text decoding method which outputs the most\n",
        "likely next token at each time step, i.e., the token with the highest probability."
      ]
    },
    {
      "cell_type": "code",
      "execution_count": 17,
      "metadata": {
        "colab": {
          "base_uri": "https://localhost:8080/"
        },
        "id": "f264p_Jtiq_T",
        "outputId": "e9aa5586-1eb8-438a-b438-14d080f5c7ac"
      },
      "outputs": [
        {
          "output_type": "stream",
          "name": "stdout",
          "text": [
            "** Example 0 **\n",
            "i don't need anybody.\n",
            "nie jestem w tym .\n",
            "\n",
            "** Example 1 **\n",
            "you can't leave.\n",
            "nie możesz się .\n",
            "\n"
          ]
        }
      ],
      "source": [
        "\n",
        "def decode_sequences(input_sentences):\n",
        "    batch_size = tf.shape(input_sentences)[0]\n",
        "\n",
        "    # Tokenize the encoder input.\n",
        "    encoder_input_tokens = eng_tokenizer(input_sentences).to_tensor(\n",
        "        shape=(None, MAX_SEQUENCE_LENGTH)\n",
        "    )\n",
        "\n",
        "    # Define a function that outputs the next token's probability given the\n",
        "    # input sequence.\n",
        "    def next(prompt, cache, index):\n",
        "        logits = transformer([encoder_input_tokens, prompt])[:, index - 1, :]\n",
        "        # Ignore hidden states for now; only needed for contrastive search.\n",
        "        hidden_states = None\n",
        "        return logits, hidden_states, cache\n",
        "\n",
        "    # Build a prompt of length 40 with a start token and padding tokens.\n",
        "    length = 40\n",
        "    start = tf.fill((batch_size, 1), spa_tokenizer.token_to_id(\"[START]\"))\n",
        "    pad = tf.fill((batch_size, length - 1), spa_tokenizer.token_to_id(\"[PAD]\"))\n",
        "    prompt = tf.concat((start, pad), axis=-1)\n",
        "\n",
        "    generated_tokens = keras_nlp.samplers.GreedySampler()(\n",
        "        next,\n",
        "        prompt,\n",
        "        end_token_id=spa_tokenizer.token_to_id(\"[END]\"),\n",
        "        index=1,  # Start sampling after start token.\n",
        "    )\n",
        "    generated_sentences = spa_tokenizer.detokenize(generated_tokens)\n",
        "    return generated_sentences\n",
        "\n",
        "\n",
        "test_eng_texts = [pair[0] for pair in test_pairs]\n",
        "for i in range(2):\n",
        "    input_sentence = random.choice(test_eng_texts)\n",
        "    translated = decode_sequences(tf.constant([input_sentence]))\n",
        "    translated = translated.numpy()[0].decode(\"utf-8\")\n",
        "    translated = (\n",
        "        translated.replace(\"[PAD]\", \"\")\n",
        "        .replace(\"[START]\", \"\")\n",
        "        .replace(\"[END]\", \"\")\n",
        "        .strip()\n",
        "    )\n",
        "    print(f\"** Example {i} **\")\n",
        "    print(input_sentence)\n",
        "    print(translated)\n",
        "    print()"
      ]
    },
    {
      "cell_type": "markdown",
      "metadata": {
        "id": "IPGfeBQmiq_T"
      },
      "source": [
        "## Evaluating our model (quantitative analysis)\n",
        "\n",
        "There are many metrics which are used for text generation tasks. Here, to\n",
        "evaluate translations generated by our model, let's compute the ROUGE-1 and\n",
        "ROUGE-2 scores. Essentially, ROUGE-N is a score based on the number of common\n",
        "n-grams between the reference text and the generated text. ROUGE-1 and ROUGE-2\n",
        "use the number of common unigrams and bigrams, respectively.\n",
        "\n",
        "We will calculate the score over 30 test samples (since decoding is an\n",
        "expensive process)."
      ]
    },
    {
      "cell_type": "code",
      "execution_count": 18,
      "metadata": {
        "colab": {
          "base_uri": "https://localhost:8080/"
        },
        "id": "JS6IenYliq_T",
        "outputId": "55e017be-e4db-4ef6-cdae-b4cd25ffe0d3"
      },
      "outputs": [
        {
          "output_type": "stream",
          "name": "stdout",
          "text": [
            "ROUGE-1 Score:  {'precision': <tf.Tensor: shape=(), dtype=float32, numpy=0.24415347>, 'recall': <tf.Tensor: shape=(), dtype=float32, numpy=0.17333333>, 'f1_score': <tf.Tensor: shape=(), dtype=float32, numpy=0.19879363>}\n",
            "ROUGE-2 Score:  {'precision': <tf.Tensor: shape=(), dtype=float32, numpy=0.03888889>, 'recall': <tf.Tensor: shape=(), dtype=float32, numpy=0.03277778>, 'f1_score': <tf.Tensor: shape=(), dtype=float32, numpy=0.035449736>}\n"
          ]
        }
      ],
      "source": [
        "rouge_1 = keras_nlp.metrics.RougeN(order=1)\n",
        "rouge_2 = keras_nlp.metrics.RougeN(order=2)\n",
        "\n",
        "for test_pair in test_pairs[:30]:\n",
        "    input_sentence = test_pair[0]\n",
        "    reference_sentence = test_pair[1]\n",
        "\n",
        "    translated_sentence = decode_sequences(tf.constant([input_sentence]))\n",
        "    translated_sentence = translated_sentence.numpy()[0].decode(\"utf-8\")\n",
        "    translated_sentence = (\n",
        "        translated_sentence.replace(\"[PAD]\", \"\")\n",
        "        .replace(\"[START]\", \"\")\n",
        "        .replace(\"[END]\", \"\")\n",
        "        .strip()\n",
        "    )\n",
        "\n",
        "    rouge_1(reference_sentence, translated_sentence)\n",
        "    rouge_2(reference_sentence, translated_sentence)\n",
        "\n",
        "print(\"ROUGE-1 Score: \", rouge_1.result())\n",
        "print(\"ROUGE-2 Score: \", rouge_2.result())"
      ]
    },
    {
      "cell_type": "markdown",
      "metadata": {
        "id": "4_0MP9Laiq_U"
      },
      "source": [
        "After 10 epochs, the scores are as follows:\n",
        "\n",
        "|               | **ROUGE-1** | **ROUGE-2** |\n",
        "|:-------------:|:-----------:|:-----------:|\n",
        "| **Precision** |    0.568    |    0.374    |\n",
        "|   **Recall**  |    0.615    |    0.394    |\n",
        "|  **F1 Score** |    0.579    |    0.381    |"
      ]
    }
  ],
  "metadata": {
    "accelerator": "GPU",
    "colab": {
      "name": "neural_machine_translation_with_keras_nlp",
      "provenance": [],
      "gpuType": "T4"
    },
    "kernelspec": {
      "display_name": "Python 3",
      "name": "python3"
    },
    "language_info": {
      "codemirror_mode": {
        "name": "ipython",
        "version": 3
      },
      "file_extension": ".py",
      "mimetype": "text/x-python",
      "name": "python",
      "nbconvert_exporter": "python",
      "pygments_lexer": "ipython3",
      "version": "3.7.0"
    }
  },
  "nbformat": 4,
  "nbformat_minor": 0
}